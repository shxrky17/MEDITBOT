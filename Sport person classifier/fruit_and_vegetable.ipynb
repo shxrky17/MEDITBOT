{
  "nbformat": 4,
  "nbformat_minor": 0,
  "metadata": {
    "colab": {
      "provenance": [],
      "gpuType": "T4"
    },
    "kernelspec": {
      "name": "python3",
      "display_name": "Python 3"
    },
    "language_info": {
      "name": "python"
    },
    "accelerator": "GPU"
  },
  "cells": [
    {
      "cell_type": "code",
      "execution_count": null,
      "metadata": {
        "colab": {
          "base_uri": "https://localhost:8080/"
        },
        "id": "jn_SIobHg5uK",
        "outputId": "5717f3f5-b233-4d3b-b4c7-bf58c8cf635a"
      },
      "outputs": [
        {
          "output_type": "stream",
          "name": "stdout",
          "text": [
            "Downloading from https://www.kaggle.com/api/v1/datasets/download/kritikseth/fruit-and-vegetable-image-recognition?dataset_version_number=8...\n"
          ]
        },
        {
          "output_type": "stream",
          "name": "stderr",
          "text": [
            "100%|██████████| 1.98G/1.98G [00:22<00:00, 96.8MB/s]"
          ]
        },
        {
          "output_type": "stream",
          "name": "stdout",
          "text": [
            "Extracting files...\n"
          ]
        },
        {
          "output_type": "stream",
          "name": "stderr",
          "text": [
            "\n"
          ]
        },
        {
          "output_type": "stream",
          "name": "stdout",
          "text": [
            "Path to dataset files: /root/.cache/kagglehub/datasets/kritikseth/fruit-and-vegetable-image-recognition/versions/8\n"
          ]
        }
      ],
      "source": [
        "import kagglehub\n",
        "\n",
        "# Download latest version\n",
        "path = kagglehub.dataset_download(\"kritikseth/fruit-and-vegetable-image-recognition\")\n",
        "\n",
        "print(\"Path to dataset files:\", path)"
      ]
    },
    {
      "cell_type": "code",
      "source": [],
      "metadata": {
        "id": "Vd1JYCP1uvwg"
      },
      "execution_count": null,
      "outputs": []
    },
    {
      "cell_type": "code",
      "source": [
        "import zipfile"
      ],
      "metadata": {
        "id": "go30HQp0hvuo"
      },
      "execution_count": null,
      "outputs": []
    },
    {
      "cell_type": "code",
      "source": [
        "!kaggle datasets download -d \"kritikseth/fruit-and-vegetable-image-recognition\""
      ],
      "metadata": {
        "colab": {
          "base_uri": "https://localhost:8080/"
        },
        "id": "wlS_jiNujeGI",
        "outputId": "4598104b-d8f1-4314-9bee-80306c9b2c47"
      },
      "execution_count": null,
      "outputs": [
        {
          "output_type": "stream",
          "name": "stdout",
          "text": [
            "Dataset URL: https://www.kaggle.com/datasets/kritikseth/fruit-and-vegetable-image-recognition\n",
            "License(s): CC0-1.0\n",
            "Downloading fruit-and-vegetable-image-recognition.zip to /content\n",
            " 99% 1.96G/1.98G [00:27<00:00, 103MB/s]\n",
            "100% 1.98G/1.98G [00:27<00:00, 76.5MB/s]\n"
          ]
        }
      ]
    },
    {
      "cell_type": "code",
      "source": [
        "with zipfile.ZipFile(\"fruit-and-vegetable-image-recognition.zip\", 'r') as zip_ref:\n",
        "    zip_ref.extractall()"
      ],
      "metadata": {
        "id": "VSEBCbtejRZH"
      },
      "execution_count": null,
      "outputs": []
    },
    {
      "cell_type": "code",
      "source": [
        "import numpy as np\n",
        "import pandas as pd\n",
        "import matplotlib\n",
        "import matplotlib.pyplot as plt\n",
        "import seaborn as sns\n",
        "import os\n",
        "import tensorflow as tf"
      ],
      "metadata": {
        "id": "aM_ZWPlqhwYD"
      },
      "execution_count": null,
      "outputs": []
    },
    {
      "cell_type": "code",
      "source": [
        "training_set = tf.keras.utils.image_dataset_from_directory(\n",
        "    '/content/train',\n",
        "  labels=\"inferred\",\n",
        "    label_mode=\"categorical\",\n",
        "    class_names=None,\n",
        "    color_mode=\"rgb\",\n",
        "    batch_size=32,\n",
        "    image_size=(64, 64),\n",
        "    shuffle=True,\n",
        "    seed=None,\n",
        "    validation_split=None,\n",
        "    subset=None,\n",
        "    interpolation=\"bilinear\",\n",
        "    follow_links=False,\n",
        "    crop_to_aspect_ratio=False\n",
        "\n",
        "    )"
      ],
      "metadata": {
        "colab": {
          "base_uri": "https://localhost:8080/"
        },
        "id": "0RHKoLIBhwVn",
        "outputId": "af732428-22aa-42a6-e936-b0a74f36dac6"
      },
      "execution_count": null,
      "outputs": [
        {
          "output_type": "stream",
          "name": "stdout",
          "text": [
            "Found 3115 files belonging to 36 classes.\n"
          ]
        }
      ]
    },
    {
      "cell_type": "code",
      "source": [
        "\n",
        "validation_set = tf.keras.utils.image_dataset_from_directory(\n",
        "    '/content/validation',\n",
        "    labels=\"inferred\",\n",
        "    label_mode=\"categorical\",\n",
        "    class_names=None,\n",
        "    color_mode=\"rgb\",\n",
        "    batch_size=32,\n",
        "    image_size=(64, 64),\n",
        "    shuffle=True,\n",
        "    seed=None,\n",
        "    validation_split=None,\n",
        "    subset=None,\n",
        "    interpolation=\"bilinear\",\n",
        "    follow_links=False,\n",
        "    crop_to_aspect_ratio=False\n",
        ")\n"
      ],
      "metadata": {
        "colab": {
          "base_uri": "https://localhost:8080/"
        },
        "id": "-LxKCmF_hwTH",
        "outputId": "f1c7f103-1f5f-4773-892c-8b7f6c05085a"
      },
      "execution_count": null,
      "outputs": [
        {
          "output_type": "stream",
          "name": "stdout",
          "text": [
            "Found 351 files belonging to 36 classes.\n"
          ]
        }
      ]
    },
    {
      "cell_type": "code",
      "source": [
        "cnn=tf.keras.models.Sequential()"
      ],
      "metadata": {
        "id": "nW9IAQ7jhwQZ"
      },
      "execution_count": null,
      "outputs": []
    },
    {
      "cell_type": "code",
      "source": [
        "cnn.add(tf.keras.layers.Conv2D(filters=64,kernel_size=3,activation='relu',input_shape=[64,64,3]))\n",
        "cnn.add(tf.keras.layers.MaxPool2D(pool_size=2,strides=2))\n",
        "\n"
      ],
      "metadata": {
        "colab": {
          "base_uri": "https://localhost:8080/"
        },
        "id": "J2XExk5dUu8t",
        "outputId": "ebf820fc-77dd-41f0-c797-c7f44daa816c"
      },
      "execution_count": null,
      "outputs": [
        {
          "output_type": "stream",
          "name": "stderr",
          "text": [
            "/usr/local/lib/python3.10/dist-packages/keras/src/layers/convolutional/base_conv.py:107: UserWarning: Do not pass an `input_shape`/`input_dim` argument to a layer. When using Sequential models, prefer using an `Input(shape)` object as the first layer in the model instead.\n",
            "  super().__init__(activity_regularizer=activity_regularizer, **kwargs)\n"
          ]
        }
      ]
    },
    {
      "cell_type": "code",
      "source": [
        "cnn.add(tf.keras.layers.Conv2D(filters=64,kernel_size=3,activation='relu'))\n",
        "cnn.add(tf.keras.layers.MaxPool2D(pool_size=2,strides=2))"
      ],
      "metadata": {
        "id": "AI_747aShwNP"
      },
      "execution_count": null,
      "outputs": []
    },
    {
      "cell_type": "code",
      "source": [
        "cnn.add(tf.keras.layers.Dropout(0.5))\n"
      ],
      "metadata": {
        "id": "Mv7L4h3AYup8"
      },
      "execution_count": null,
      "outputs": []
    },
    {
      "cell_type": "code",
      "source": [
        "cnn.add(tf.keras.layers.Flatten())"
      ],
      "metadata": {
        "id": "eMGnDK8zYum6"
      },
      "execution_count": null,
      "outputs": []
    },
    {
      "cell_type": "code",
      "source": [
        "cnn.add(tf.keras.layers.Dense(units=128,activation='relu'))"
      ],
      "metadata": {
        "id": "j21rcOwtY7fZ"
      },
      "execution_count": null,
      "outputs": []
    },
    {
      "cell_type": "code",
      "source": [
        "cnn.add(tf.keras.layers.Dense(units=36,activation='softmax'))"
      ],
      "metadata": {
        "id": "_W5LIGKMYuj8"
      },
      "execution_count": null,
      "outputs": []
    },
    {
      "cell_type": "code",
      "source": [
        "cnn.compile(optimizer='rmsprop',loss='categorical_crossentropy',metrics=['accuracy'])"
      ],
      "metadata": {
        "id": "-AEeBWMuYuhe"
      },
      "execution_count": null,
      "outputs": []
    },
    {
      "cell_type": "code",
      "source": [
        "training_history=cnn.fit(training_set,validation_data=validation_set,epochs=30)"
      ],
      "metadata": {
        "colab": {
          "base_uri": "https://localhost:8080/"
        },
        "id": "WOxpjDHnfJku",
        "outputId": "e7bbf880-96ad-4724-fdd6-36013658222c"
      },
      "execution_count": null,
      "outputs": [
        {
          "output_type": "stream",
          "name": "stdout",
          "text": [
            "Epoch 1/30\n",
            "\u001b[1m98/98\u001b[0m \u001b[32m━━━━━━━━━━━━━━━━━━━━\u001b[0m\u001b[37m\u001b[0m \u001b[1m67s\u001b[0m 635ms/step - accuracy: 0.0370 - loss: 35.0252 - val_accuracy: 0.0484 - val_loss: 17.4030\n",
            "Epoch 2/30\n",
            "\u001b[1m98/98\u001b[0m \u001b[32m━━━━━━━━━━━━━━━━━━━━\u001b[0m\u001b[37m\u001b[0m \u001b[1m61s\u001b[0m 630ms/step - accuracy: 0.0370 - loss: 4.8253 - val_accuracy: 0.0969 - val_loss: 3.4475\n",
            "Epoch 3/30\n",
            "\u001b[1m98/98\u001b[0m \u001b[32m━━━━━━━━━━━━━━━━━━━━\u001b[0m\u001b[37m\u001b[0m \u001b[1m60s\u001b[0m 611ms/step - accuracy: 0.0697 - loss: 3.9114 - val_accuracy: 0.1140 - val_loss: 3.3462\n",
            "Epoch 4/30\n",
            "\u001b[1m98/98\u001b[0m \u001b[32m━━━━━━━━━━━━━━━━━━━━\u001b[0m\u001b[37m\u001b[0m \u001b[1m79s\u001b[0m 590ms/step - accuracy: 0.1033 - loss: 4.0654 - val_accuracy: 0.3048 - val_loss: 3.0598\n",
            "Epoch 5/30\n",
            "\u001b[1m98/98\u001b[0m \u001b[32m━━━━━━━━━━━━━━━━━━━━\u001b[0m\u001b[37m\u001b[0m \u001b[1m60s\u001b[0m 610ms/step - accuracy: 0.1561 - loss: 3.8351 - val_accuracy: 0.3675 - val_loss: 2.7398\n",
            "Epoch 6/30\n",
            "\u001b[1m98/98\u001b[0m \u001b[32m━━━━━━━━━━━━━━━━━━━━\u001b[0m\u001b[37m\u001b[0m \u001b[1m83s\u001b[0m 614ms/step - accuracy: 0.1820 - loss: 4.0012 - val_accuracy: 0.4615 - val_loss: 2.4056\n",
            "Epoch 7/30\n",
            "\u001b[1m98/98\u001b[0m \u001b[32m━━━━━━━━━━━━━━━━━━━━\u001b[0m\u001b[37m\u001b[0m \u001b[1m83s\u001b[0m 626ms/step - accuracy: 0.2634 - loss: 3.4553 - val_accuracy: 0.3647 - val_loss: 2.9598\n",
            "Epoch 8/30\n",
            "\u001b[1m98/98\u001b[0m \u001b[32m━━━━━━━━━━━━━━━━━━━━\u001b[0m\u001b[37m\u001b[0m \u001b[1m60s\u001b[0m 607ms/step - accuracy: 0.2885 - loss: 3.2467 - val_accuracy: 0.4729 - val_loss: 2.3408\n",
            "Epoch 9/30\n",
            "\u001b[1m98/98\u001b[0m \u001b[32m━━━━━━━━━━━━━━━━━━━━\u001b[0m\u001b[37m\u001b[0m \u001b[1m79s\u001b[0m 585ms/step - accuracy: 0.3346 - loss: 4.5275 - val_accuracy: 0.5726 - val_loss: 1.9520\n",
            "Epoch 10/30\n",
            "\u001b[1m98/98\u001b[0m \u001b[32m━━━━━━━━━━━━━━━━━━━━\u001b[0m\u001b[37m\u001b[0m \u001b[1m61s\u001b[0m 623ms/step - accuracy: 0.3764 - loss: 3.0571 - val_accuracy: 0.3618 - val_loss: 6.5517\n",
            "Epoch 11/30\n",
            "\u001b[1m98/98\u001b[0m \u001b[32m━━━━━━━━━━━━━━━━━━━━\u001b[0m\u001b[37m\u001b[0m \u001b[1m80s\u001b[0m 602ms/step - accuracy: 0.4448 - loss: 2.5372 - val_accuracy: 0.6724 - val_loss: 1.6073\n",
            "Epoch 12/30\n",
            "\u001b[1m98/98\u001b[0m \u001b[32m━━━━━━━━━━━━━━━━━━━━\u001b[0m\u001b[37m\u001b[0m \u001b[1m84s\u001b[0m 623ms/step - accuracy: 0.5219 - loss: 1.9362 - val_accuracy: 0.6667 - val_loss: 2.0300\n",
            "Epoch 13/30\n",
            "\u001b[1m98/98\u001b[0m \u001b[32m━━━━━━━━━━━━━━━━━━━━\u001b[0m\u001b[37m\u001b[0m \u001b[1m82s\u001b[0m 621ms/step - accuracy: 0.5254 - loss: 2.2643 - val_accuracy: 0.6866 - val_loss: 1.6216\n",
            "Epoch 14/30\n",
            "\u001b[1m98/98\u001b[0m \u001b[32m━━━━━━━━━━━━━━━━━━━━\u001b[0m\u001b[37m\u001b[0m \u001b[1m80s\u001b[0m 602ms/step - accuracy: 0.5790 - loss: 1.7032 - val_accuracy: 0.6923 - val_loss: 1.6123\n",
            "Epoch 15/30\n",
            "\u001b[1m98/98\u001b[0m \u001b[32m━━━━━━━━━━━━━━━━━━━━\u001b[0m\u001b[37m\u001b[0m \u001b[1m85s\u001b[0m 638ms/step - accuracy: 0.5697 - loss: 1.9407 - val_accuracy: 0.6524 - val_loss: 2.1180\n",
            "Epoch 16/30\n",
            "\u001b[1m98/98\u001b[0m \u001b[32m━━━━━━━━━━━━━━━━━━━━\u001b[0m\u001b[37m\u001b[0m \u001b[1m78s\u001b[0m 586ms/step - accuracy: 0.6324 - loss: 1.5592 - val_accuracy: 0.7293 - val_loss: 1.4620\n",
            "Epoch 17/30\n",
            "\u001b[1m98/98\u001b[0m \u001b[32m━━━━━━━━━━━━━━━━━━━━\u001b[0m\u001b[37m\u001b[0m \u001b[1m61s\u001b[0m 617ms/step - accuracy: 0.6526 - loss: 1.5212 - val_accuracy: 0.7920 - val_loss: 1.4855\n",
            "Epoch 18/30\n",
            "\u001b[1m98/98\u001b[0m \u001b[32m━━━━━━━━━━━━━━━━━━━━\u001b[0m\u001b[37m\u001b[0m \u001b[1m82s\u001b[0m 622ms/step - accuracy: 0.6784 - loss: 1.4127 - val_accuracy: 0.8063 - val_loss: 1.7198\n",
            "Epoch 19/30\n",
            "\u001b[1m98/98\u001b[0m \u001b[32m━━━━━━━━━━━━━━━━━━━━\u001b[0m\u001b[37m\u001b[0m \u001b[1m81s\u001b[0m 607ms/step - accuracy: 0.6962 - loss: 1.3608 - val_accuracy: 0.6353 - val_loss: 2.5834\n",
            "Epoch 20/30\n",
            "\u001b[1m98/98\u001b[0m \u001b[32m━━━━━━━━━━━━━━━━━━━━\u001b[0m\u001b[37m\u001b[0m \u001b[1m79s\u001b[0m 584ms/step - accuracy: 0.6919 - loss: 1.5175 - val_accuracy: 0.8234 - val_loss: 1.1854\n",
            "Epoch 21/30\n",
            "\u001b[1m98/98\u001b[0m \u001b[32m━━━━━━━━━━━━━━━━━━━━\u001b[0m\u001b[37m\u001b[0m \u001b[1m86s\u001b[0m 623ms/step - accuracy: 0.7171 - loss: 1.2855 - val_accuracy: 0.7920 - val_loss: 1.3601\n",
            "Epoch 22/30\n",
            "\u001b[1m98/98\u001b[0m \u001b[32m━━━━━━━━━━━━━━━━━━━━\u001b[0m\u001b[37m\u001b[0m \u001b[1m62s\u001b[0m 637ms/step - accuracy: 0.7229 - loss: 1.4048 - val_accuracy: 0.8575 - val_loss: 1.2492\n",
            "Epoch 23/30\n",
            "\u001b[1m98/98\u001b[0m \u001b[32m━━━━━━━━━━━━━━━━━━━━\u001b[0m\u001b[37m\u001b[0m \u001b[1m57s\u001b[0m 586ms/step - accuracy: 0.7591 - loss: 1.2023 - val_accuracy: 0.7293 - val_loss: 2.5855\n",
            "Epoch 24/30\n",
            "\u001b[1m98/98\u001b[0m \u001b[32m━━━━━━━━━━━━━━━━━━━━\u001b[0m\u001b[37m\u001b[0m \u001b[1m85s\u001b[0m 620ms/step - accuracy: 0.7431 - loss: 1.3999 - val_accuracy: 0.8889 - val_loss: 1.1653\n",
            "Epoch 25/30\n",
            "\u001b[1m98/98\u001b[0m \u001b[32m━━━━━━━━━━━━━━━━━━━━\u001b[0m\u001b[37m\u001b[0m \u001b[1m60s\u001b[0m 615ms/step - accuracy: 0.7907 - loss: 1.0531 - val_accuracy: 0.5613 - val_loss: 4.2176\n",
            "Epoch 26/30\n",
            "\u001b[1m98/98\u001b[0m \u001b[32m━━━━━━━━━━━━━━━━━━━━\u001b[0m\u001b[37m\u001b[0m \u001b[1m61s\u001b[0m 630ms/step - accuracy: 0.7531 - loss: 1.5602 - val_accuracy: 0.8661 - val_loss: 1.6333\n",
            "Epoch 27/30\n",
            "\u001b[1m98/98\u001b[0m \u001b[32m━━━━━━━━━━━━━━━━━━━━\u001b[0m\u001b[37m\u001b[0m \u001b[1m60s\u001b[0m 615ms/step - accuracy: 0.7820 - loss: 1.0743 - val_accuracy: 0.9088 - val_loss: 1.2713\n",
            "Epoch 28/30\n",
            "\u001b[1m98/98\u001b[0m \u001b[32m━━━━━━━━━━━━━━━━━━━━\u001b[0m\u001b[37m\u001b[0m \u001b[1m81s\u001b[0m 605ms/step - accuracy: 0.8197 - loss: 1.0191 - val_accuracy: 0.8917 - val_loss: 1.2649\n",
            "Epoch 29/30\n",
            "\u001b[1m98/98\u001b[0m \u001b[32m━━━━━━━━━━━━━━━━━━━━\u001b[0m\u001b[37m\u001b[0m \u001b[1m83s\u001b[0m 619ms/step - accuracy: 0.8032 - loss: 1.0391 - val_accuracy: 0.8832 - val_loss: 1.5695\n",
            "Epoch 30/30\n",
            "\u001b[1m98/98\u001b[0m \u001b[32m━━━━━━━━━━━━━━━━━━━━\u001b[0m\u001b[37m\u001b[0m \u001b[1m79s\u001b[0m 588ms/step - accuracy: 0.7931 - loss: 1.4149 - val_accuracy: 0.8632 - val_loss: 1.7424\n"
          ]
        }
      ]
    },
    {
      "cell_type": "code",
      "source": [
        "cnn.save('trained_model.h5')"
      ],
      "metadata": {
        "colab": {
          "base_uri": "https://localhost:8080/"
        },
        "id": "g0zZoQxofnmW",
        "outputId": "d2581f3a-9ac0-4b0c-cd83-7f68ee43cce9"
      },
      "execution_count": null,
      "outputs": [
        {
          "output_type": "stream",
          "name": "stderr",
          "text": [
            "WARNING:absl:You are saving your model as an HDF5 file via `model.save()` or `keras.saving.save_model(model)`. This file format is considered legacy. We recommend using instead the native Keras format, e.g. `model.save('my_model.keras')` or `keras.saving.save_model(model, 'my_model.keras')`. \n"
          ]
        }
      ]
    },
    {
      "cell_type": "code",
      "source": [
        "import json\n",
        "with open('trained_hist.json','w') as f:\n",
        "  json.dump(str(training_history.history),f)"
      ],
      "metadata": {
        "id": "PKanQZBxfYlR"
      },
      "execution_count": null,
      "outputs": []
    },
    {
      "cell_type": "code",
      "source": [
        "print(training_history.history.keys())"
      ],
      "metadata": {
        "colab": {
          "base_uri": "https://localhost:8080/"
        },
        "id": "uz0jOkqKp0r1",
        "outputId": "1974be3d-bf88-410d-89d5-a7d1b818d8ea"
      },
      "execution_count": null,
      "outputs": [
        {
          "output_type": "stream",
          "name": "stdout",
          "text": [
            "dict_keys(['accuracy', 'loss', 'val_accuracy', 'val_loss'])\n"
          ]
        }
      ]
    },
    {
      "cell_type": "code",
      "source": [
        "training_history.history['val_accuracy'][-1]"
      ],
      "metadata": {
        "colab": {
          "base_uri": "https://localhost:8080/"
        },
        "id": "RCX-bS6Ap2kL",
        "outputId": "caebea19-eaf2-4e2d-9994-5c31f9ddad4d"
      },
      "execution_count": null,
      "outputs": [
        {
          "output_type": "execute_result",
          "data": {
            "text/plain": [
              "0.8632478713989258"
            ]
          },
          "metadata": {},
          "execution_count": 22
        }
      ]
    },
    {
      "cell_type": "code",
      "source": [
        "epochs =[i for i in range(1,31)]\n",
        "plt.plot(epochs,training_history.history['accuracy'],label='Training Accuracy')\n",
        "plt.plot(epochs,training_history.history['val_accuracy'],label='Validation Accuracy')\n",
        "plt.title('Training and Validation Accuracy')\n",
        "plt.xlabel('Epochs')"
      ],
      "metadata": {
        "colab": {
          "base_uri": "https://localhost:8080/",
          "height": 489
        },
        "id": "CvsfyKi0qKsc",
        "outputId": "74ae5333-7e9b-48c6-9371-ceb25e7cef9b"
      },
      "execution_count": null,
      "outputs": [
        {
          "output_type": "execute_result",
          "data": {
            "text/plain": [
              "Text(0.5, 0, 'Epochs')"
            ]
          },
          "metadata": {},
          "execution_count": 24
        },
        {
          "output_type": "display_data",
          "data": {
            "text/plain": [
              "<Figure size 640x480 with 1 Axes>"
            ],
            "image/png": "[encoded data removed]"
          },
          "metadata": {}
        }
      ]
    },
    {
      "cell_type": "code",
      "source": [],
      "metadata": {
        "id": "r3YYThzesD0J"
      },
      "execution_count": null,
      "outputs": []
    },
    {
      "cell_type": "code",
      "source": [],
      "metadata": {
        "id": "LhVJkOF5ru7x"
      },
      "execution_count": null,
      "outputs": []
    },
    {
      "cell_type": "code",
      "source": [],
      "metadata": {
        "id": "ypVtLPdxqDsD"
      },
      "execution_count": null,
      "outputs": []
    },
    {
      "cell_type": "code",
      "source": [],
      "metadata": {
        "id": "vndQgXSbp0o8"
      },
      "execution_count": null,
      "outputs": []
    },
    {
      "cell_type": "code",
      "source": [],
      "metadata": {
        "id": "2WPNntW4p0mC"
      },
      "execution_count": null,
      "outputs": []
    },
    {
      "cell_type": "code",
      "source": [],
      "metadata": {
        "id": "n1Hz7IyKp0jk"
      },
      "execution_count": null,
      "outputs": []
    }
  ]
}